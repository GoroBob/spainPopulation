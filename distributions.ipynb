{
 "cells": [
  {
   "cell_type": "code",
   "execution_count": 64,
   "id": "a4db0d8c",
   "metadata": {},
   "outputs": [
    {
     "data": {
      "text/plain": [
       "'\\nSuppositions:\\n\\n'"
      ]
     },
     "execution_count": 64,
     "metadata": {},
     "output_type": "execute_result"
    }
   ],
   "source": [
    "# Convert the data into useful distribution\n",
    "\n",
    "\"\"\"\n",
    "Suppositions:\n",
    "- gender do not matter, i get the mix of both genders\n",
    "- people with more than 100 years are only 0.03% of population... neglected\n",
    "\n",
    "\"\"\""
   ]
  },
  {
   "cell_type": "code",
   "execution_count": 1,
   "id": "69b42eee",
   "metadata": {},
   "outputs": [],
   "source": [
    "# libraries\n",
    "import pandas as pd\n",
    "import re\n",
    "import matplotlib.pyplot as plt"
   ]
  },
  {
   "cell_type": "code",
   "execution_count": 2,
   "id": "f466ad62",
   "metadata": {},
   "outputs": [],
   "source": [
    "# functions\n",
    "def clean_column(column):\n",
    "    \"\"\"\n",
    "    Cleans a column by removing any non-numeric characters.\n",
    "\n",
    "    Args:\n",
    "      column (pandas.Series): The column to clean.\n",
    "\n",
    "    Returns:\n",
    "      pandas.Series: The cleaned column with only numbers.\n",
    "    \"\"\"\n",
    "    pattern = r\"[^\\d\\-+\\.]\"  # Replace with explanation below\n",
    "    return column.str.replace(pattern, \"\", regex=True)\n",
    "\n",
    "\n",
    "# transform the name from spanish to english\n",
    "def convert_sex_names(x):\n",
    "    "
   ]
  },
  {
   "cell_type": "markdown",
   "id": "2a382f4c",
   "metadata": {},
   "source": [
    "# death distribution"
   ]
  },
  {
   "cell_type": "code",
   "execution_count": 95,
   "id": "bebb5a7a",
   "metadata": {},
   "outputs": [],
   "source": [
    "# retrieve the information\n",
    "fileName = 'death_age_data.csv'\n",
    "df1 = pd.read_csv(fileName, sep = \";\")"
   ]
  },
  {
   "cell_type": "code",
   "execution_count": 96,
   "id": "cddb94f1",
   "metadata": {},
   "outputs": [],
   "source": [
    "# selecting the interesting data, assume do not matter gender\n",
    "df1 = df1[((df1.Sexo == 'Ambos sexos') & \n",
    "           (df1.Periodo == 2022) &\n",
    "          (df1.Funciones == 'Tasa de mortalidad'))]"
   ]
  },
  {
   "cell_type": "code",
   "execution_count": 97,
   "id": "8bcc2ac5",
   "metadata": {},
   "outputs": [],
   "source": [
    "# processing the Total and the age\n",
    "df1['Total'] = df1['Total'].str.replace(',', '.')\n",
    "df1['Total'] = pd.to_numeric(df1.Total)\n",
    "\n",
    "df1['age'] = clean_column(df1['Edad'])  \n",
    "df1['age'] = pd.to_numeric(df1['age'])"
   ]
  },
  {
   "cell_type": "code",
   "execution_count": 98,
   "id": "cecb5ac7",
   "metadata": {},
   "outputs": [],
   "source": [
    "# getting the death probvability from this\n",
    "df1['death_prob'] = df1['Total']/df1['Total'].sum()"
   ]
  },
  {
   "cell_type": "code",
   "execution_count": 99,
   "id": "8e7b2145",
   "metadata": {},
   "outputs": [],
   "source": [
    "df1 = df1.set_index('age')\n",
    "df1['death_prob'].to_csv('death_distribution.csv')"
   ]
  },
  {
   "cell_type": "markdown",
   "id": "833a5789",
   "metadata": {},
   "source": [
    "# Population distribution"
   ]
  },
  {
   "cell_type": "code",
   "execution_count": 150,
   "id": "9ed4af47",
   "metadata": {},
   "outputs": [],
   "source": [
    "fileName = 'pop_sex_age.csv'\n",
    "df1 = pd.read_csv(fileName, \n",
    "                  sep = ';', \n",
    "                  encoding=\"latin-1\", \n",
    "                  thousands=\".\")"
   ]
  },
  {
   "cell_type": "code",
   "execution_count": 151,
   "id": "adcb4e22",
   "metadata": {},
   "outputs": [],
   "source": [
    "# change the name of the male and females\n",
    "name_mapping = {'Hombres': 'male', 'Mujeres': 'female'}\n",
    "df1['sex'] = df1.Sexo.replace(name_mapping)\n",
    "\n",
    "# get the age as a number\n",
    "df1['age'] = clean_column(df1['Generación'])  \n",
    "df1['age'] = pd.to_numeric(df1['age'])"
   ]
  },
  {
   "cell_type": "code",
   "execution_count": 152,
   "id": "932ac865",
   "metadata": {},
   "outputs": [],
   "source": [
    "df1[['sex', 'age', 'Total']].to_csv('population_distribution.csv')\n",
    "df_pop = df1[['sex', 'age', 'Total']]\n",
    "df_pop.columns = ['sex', 'age', 'Total']"
   ]
  },
  {
   "cell_type": "markdown",
   "id": "ada36d2d",
   "metadata": {},
   "source": [
    "\n",
    "# birth distribution"
   ]
  },
  {
   "cell_type": "code",
   "execution_count": 154,
   "id": "bcf4e5ce",
   "metadata": {},
   "outputs": [],
   "source": [
    "# retrieve the information\n",
    "fileName = 'mother_age.csv'\n",
    "# dtype= {'Total': int}\n",
    "df1 = pd.read_csv(fileName, \n",
    "                  sep = \";\", \n",
    "                  encoding=\"latin-1\", \n",
    "                  thousands=\".\")"
   ]
  },
  {
   "cell_type": "code",
   "execution_count": 155,
   "id": "33245603",
   "metadata": {},
   "outputs": [],
   "source": [
    "# amount of births by mom\n",
    "df1['age'] = clean_column(df1['Edad de la madre'])  \n",
    "df1['age'] = pd.to_numeric(df1['age'])\n",
    "df1['num_moms'] = df1['Total']\n",
    "df1 = df1.drop(['Total'], axis = 1)"
   ]
  },
  {
   "cell_type": "code",
   "execution_count": 156,
   "id": "5e78a89e",
   "metadata": {},
   "outputs": [],
   "source": [
    "df1 = df1.merge(df_pop[df_pop.sex == 'female'], on = 'age', how = 'inner')\n",
    "\n",
    "df1['prob_birth'] = df1['num_moms']/df1['Total']"
   ]
  },
  {
   "cell_type": "code",
   "execution_count": 160,
   "id": "f3c55fa4",
   "metadata": {},
   "outputs": [],
   "source": [
    "df1[['age', 'prob_birth']].to_csv('birth_distribution.csv', index= False)"
   ]
  },
  {
   "cell_type": "code",
   "execution_count": null,
   "id": "8cf307cf",
   "metadata": {},
   "outputs": [],
   "source": []
  }
 ],
 "metadata": {
  "kernelspec": {
   "display_name": "Python 3 (ipykernel)",
   "language": "python",
   "name": "python3"
  },
  "language_info": {
   "codemirror_mode": {
    "name": "ipython",
    "version": 3
   },
   "file_extension": ".py",
   "mimetype": "text/x-python",
   "name": "python",
   "nbconvert_exporter": "python",
   "pygments_lexer": "ipython3",
   "version": "3.8.8"
  }
 },
 "nbformat": 4,
 "nbformat_minor": 5
}

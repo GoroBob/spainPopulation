{
 "cells": [
  {
   "cell_type": "code",
   "execution_count": 1,
   "id": "b4a85f44",
   "metadata": {},
   "outputs": [
    {
     "data": {
      "text/plain": [
       "'\\nBibliography\\n- https://ine.es/en/index.htm\\n'"
      ]
     },
     "execution_count": 1,
     "metadata": {},
     "output_type": "execute_result"
    }
   ],
   "source": [
    "\"\"\"\n",
    "Bibliography\n",
    "- https://ine.es/en/index.htm\n",
    "\"\"\""
   ]
  },
  {
   "cell_type": "code",
   "execution_count": 57,
   "id": "9cc470e5",
   "metadata": {},
   "outputs": [],
   "source": [
    "import pandas as pd\n",
    "import random"
   ]
  },
  {
   "cell_type": "code",
   "execution_count": 58,
   "id": "e0784f07",
   "metadata": {},
   "outputs": [],
   "source": [
    "# Spain population\n",
    "pop = 48592909"
   ]
  },
  {
   "cell_type": "code",
   "execution_count": 66,
   "id": "fa905945",
   "metadata": {},
   "outputs": [],
   "source": [
    "# reduce , every agent here is equivalent to \"people_per_agent\" persons\n",
    "people_per_agent = 1000\n",
    "pop = round(pop/people_per_agent)"
   ]
  },
  {
   "cell_type": "code",
   "execution_count": 67,
   "id": "4099a13a",
   "metadata": {},
   "outputs": [],
   "source": [
    "# distributions\n",
    "\n",
    "# death by age\n",
    "fileName = 'death_distribution.csv'\n",
    "df_da = pd.read_csv(fileName)\n",
    "death_distri = df_da.to_dict()['death_prob'] \n",
    "\n",
    "# population distribution\n",
    "fileName = 'population_distribution.csv'\n",
    "df_pop = pd.read_csv(fileName, usecols=[1,2,3])\n",
    "\n",
    "# get distribution of births\n",
    "fileName = 'birth_distribution.csv'\n",
    "df_birth = pd.read_csv(fileName)\n",
    "# prepare the data\n",
    "dict_birth = df_birth.set_index('age').to_dict()['prob_birth']"
   ]
  },
  {
   "cell_type": "code",
   "execution_count": 68,
   "id": "fcff9df4",
   "metadata": {},
   "outputs": [],
   "source": [
    "class Human:\n",
    "    def __init__(self, age, sex, sons=0):\n",
    "        self.age = age\n",
    "        self.sex = sex.lower()  # Ensure sex is stored in lowercase\n",
    "        self.alive = True\n",
    "        self.sons = sons\n",
    "\n",
    "\n",
    "    def death(self, humans):\n",
    "        # use the distribution of death\n",
    "        if self.age <= 100:\n",
    "            if random.random() < death_distri[self.age]:\n",
    "                self.alive = False  # Probability of death is 0.5\n",
    "                if not self.alive:\n",
    "                    humans.remove(self)  # Remove from list if dead\n",
    "        else:\n",
    "            humans.remove(self)  # Remove from list if dead (age > 100)\n",
    "        return humans  # Optional: Return the updated humans list\n",
    "\n",
    "        \n",
    "    # at every step a year is added\n",
    "    def age_up(self):\n",
    "        self.age += 1  # Increase age by 1 only if alive\n",
    "        \n",
    "    # procreate more people\n",
    "    def procreate(self, humans):\n",
    "        if (self.sex == 'female'):\n",
    "            if (self.age in list(dict_birth.keys())):\n",
    "                if random.random() < dict_birth[self.age]:\n",
    "                    a1 = 0\n",
    "                    s1 = random.choice(['male', 'female'])\n",
    "                    humans.append(Human(a1, s1, 0))\n"
   ]
  },
  {
   "cell_type": "code",
   "execution_count": 69,
   "id": "8af164ee",
   "metadata": {},
   "outputs": [],
   "source": [
    "# processing data\n",
    "\n",
    "# reducing the size of the population\n",
    "df_pop['Total'] = round(df_pop['Total']/people_per_agent)"
   ]
  },
  {
   "cell_type": "code",
   "execution_count": null,
   "id": "7c2b3245",
   "metadata": {},
   "outputs": [],
   "source": []
  },
  {
   "cell_type": "code",
   "execution_count": 70,
   "id": "2610b7e5",
   "metadata": {},
   "outputs": [],
   "source": [
    "# Create a list to store the humans, initial conditions\n",
    "humans = []\n",
    "ages = list(df_pop.age.unique())\n",
    "\n",
    "# Create number humans with the ages and sexes of the distributions\n",
    "for s1 in ['male', 'female']:\n",
    "    for a1 in ages:\n",
    "        t1 = int(df_pop.loc[((df_pop['sex'] == s1) & \n",
    "                (df_pop['age'] == a1)), \n",
    "               'Total'])\n",
    "        for _ in range(t1):\n",
    "            humans.append(Human(a1, s1, 0))\n",
    "            "
   ]
  },
  {
   "cell_type": "code",
   "execution_count": 71,
   "id": "7524c0c5",
   "metadata": {},
   "outputs": [
    {
     "name": "stdout",
     "output_type": "stream",
     "text": [
      "Year:  2025 Population:  48322000\n",
      "Year:  2026 Population:  48566000\n",
      "Year:  2027 Population:  48789000\n",
      "Year:  2028 Population:  48948000\n",
      "Year:  2029 Population:  49119000\n",
      "Year:  2030 Population:  49280000\n",
      "Year:  2031 Population:  49356000\n",
      "Year:  2032 Population:  49508000\n",
      "Year:  2033 Population:  49599000\n",
      "Year:  2034 Population:  49662000\n",
      "Year:  2035 Population:  49709000\n",
      "Year:  2036 Population:  49690000\n",
      "Year:  2037 Population:  49643000\n",
      "Year:  2038 Population:  49560000\n",
      "Year:  2039 Population:  49520000\n",
      "Year:  2040 Population:  49465000\n",
      "Year:  2041 Population:  49394000\n",
      "Year:  2042 Population:  49298000\n",
      "Year:  2043 Population:  49214000\n",
      "Year:  2044 Population:  49098000\n",
      "Year:  2045 Population:  48963000\n",
      "Year:  2046 Population:  48800000\n",
      "Year:  2047 Population:  48627000\n",
      "Year:  2048 Population:  48407000\n",
      "Year:  2049 Population:  48172000\n",
      "Year:  2050 Population:  47926000\n",
      "Year:  2051 Population:  47623000\n",
      "Year:  2052 Population:  47314000\n",
      "Year:  2053 Population:  47024000\n",
      "Year:  2054 Population:  46714000\n",
      "Year:  2055 Population:  46352000\n",
      "Year:  2056 Population:  46074000\n",
      "Year:  2057 Population:  45649000\n",
      "Year:  2058 Population:  45237000\n",
      "Year:  2059 Population:  44794000\n",
      "Year:  2060 Population:  44428000\n",
      "Year:  2061 Population:  43958000\n",
      "Year:  2062 Population:  43495000\n",
      "Year:  2063 Population:  43044000\n",
      "Year:  2064 Population:  42580000\n",
      "Year:  2065 Population:  42099000\n",
      "Year:  2066 Population:  41613000\n",
      "Year:  2067 Population:  41094000\n",
      "Year:  2068 Population:  40557000\n",
      "Year:  2069 Population:  40041000\n",
      "Year:  2070 Population:  39545000\n"
     ]
    }
   ],
   "source": [
    "# Looping through all humans, see evolution of population\n",
    "for yr in range(1, 47):\n",
    "    for human in humans:\n",
    "        human.death(humans)  # Simulate death for all humans\n",
    "        human.age_up() # simulation of getting old\n",
    "        human.procreate(humans) # births\n",
    "    \n",
    "    # population total\n",
    "    print('Year: ', 2024+yr, 'Population: ', len(humans)*people_per_agent)"
   ]
  },
  {
   "cell_type": "code",
   "execution_count": 65,
   "id": "b443b6dc",
   "metadata": {},
   "outputs": [
    {
     "data": {
      "text/plain": [
       "True"
      ]
     },
     "execution_count": 65,
     "metadata": {},
     "output_type": "execute_result"
    }
   ],
   "source": [
    "15 in list(dict_birth.keys())"
   ]
  },
  {
   "cell_type": "code",
   "execution_count": null,
   "id": "c4331f77",
   "metadata": {},
   "outputs": [],
   "source": []
  },
  {
   "cell_type": "code",
   "execution_count": null,
   "id": "f63fe2d7",
   "metadata": {},
   "outputs": [],
   "source": []
  },
  {
   "cell_type": "code",
   "execution_count": null,
   "id": "2fa70452",
   "metadata": {},
   "outputs": [],
   "source": []
  }
 ],
 "metadata": {
  "kernelspec": {
   "display_name": "Python 3 (ipykernel)",
   "language": "python",
   "name": "python3"
  },
  "language_info": {
   "codemirror_mode": {
    "name": "ipython",
    "version": 3
   },
   "file_extension": ".py",
   "mimetype": "text/x-python",
   "name": "python",
   "nbconvert_exporter": "python",
   "pygments_lexer": "ipython3",
   "version": "3.8.8"
  }
 },
 "nbformat": 4,
 "nbformat_minor": 5
}

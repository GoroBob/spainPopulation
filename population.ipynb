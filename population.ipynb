{
 "cells": [
  {
   "cell_type": "code",
   "execution_count": 1,
   "id": "b4a85f44",
   "metadata": {},
   "outputs": [
    {
     "data": {
      "text/plain": [
       "'\\nBibliography\\n- https://ine.es/en/index.htm\\n'"
      ]
     },
     "execution_count": 1,
     "metadata": {},
     "output_type": "execute_result"
    }
   ],
   "source": [
    "\"\"\"\n",
    "Bibliography\n",
    "- https://ine.es/en/index.htm\n",
    "\"\"\""
   ]
  },
  {
   "cell_type": "code",
   "execution_count": 18,
   "id": "9cc470e5",
   "metadata": {},
   "outputs": [],
   "source": [
    "import pandas as pd\n",
    "import random"
   ]
  },
  {
   "cell_type": "code",
   "execution_count": 19,
   "id": "e0784f07",
   "metadata": {},
   "outputs": [],
   "source": [
    "# Spain population\n",
    "pop = 48592909"
   ]
  },
  {
   "cell_type": "code",
   "execution_count": 20,
   "id": "fa905945",
   "metadata": {},
   "outputs": [],
   "source": [
    "# reduce , every agent here is equivalent to \"people_per_agent\" persons\n",
    "people_per_agent = 1000\n",
    "pop = round(pop/people_per_agent)"
   ]
  },
  {
   "cell_type": "code",
   "execution_count": 21,
   "id": "f455697d",
   "metadata": {},
   "outputs": [],
   "source": [
    "# distributions\n",
    "\n",
    "# death by age\n",
    "# multiplier of the death distribution to match the present value of 464,000\n",
    "death_factor = 4.19\n",
    "fileName = 'death_distribution.csv'\n",
    "df_da = pd.read_csv(fileName)\n",
    "df_da['death_prob'] = df_da['death_prob']*death_factor\n",
    "death_distri = df_da.to_dict()['death_prob'] "
   ]
  },
  {
   "cell_type": "code",
   "execution_count": 22,
   "id": "eb057902",
   "metadata": {},
   "outputs": [],
   "source": [
    "# population distribution\n",
    "fileName = 'population_distribution.csv'\n",
    "df_pop = pd.read_csv(fileName, usecols=[1,2,3])\n"
   ]
  },
  {
   "cell_type": "code",
   "execution_count": 23,
   "id": "aa643154",
   "metadata": {},
   "outputs": [],
   "source": [
    "# get distribution of births\n",
    "birth_factor = 10\n",
    "fileName = 'birth_distribution.csv'\n",
    "df_birth = pd.read_csv(fileName)\n",
    "df_birth['prob_birth'] = df_birth['prob_birth']*birth_factor"
   ]
  },
  {
   "cell_type": "code",
   "execution_count": 24,
   "id": "4099a13a",
   "metadata": {},
   "outputs": [],
   "source": [
    "# prepare the data\n",
    "dict_birth = df_birth.set_index('age').to_dict()['prob_birth']"
   ]
  },
  {
   "cell_type": "code",
   "execution_count": 25,
   "id": "fcff9df4",
   "metadata": {},
   "outputs": [],
   "source": [
    "class Human:\n",
    "    def __init__(self, age, sex, sons=0):\n",
    "        self.age = age\n",
    "        self.sex = sex.lower()  # Ensure sex is stored in lowercase\n",
    "        self.alive = True\n",
    "        self.sons = sons\n",
    "\n",
    "\n",
    "    def death(self):\n",
    "        # use the distribution of death\n",
    "        if self.age <= 100:\n",
    "            if random.random() < death_distri[self.age]:\n",
    "                self.alive = False  # Probability of death is 0.5\n",
    "        else:\n",
    "            self.alive = False   # go to False as (age > 100)\n",
    "    \n",
    "    \n",
    "    def erase_from_list(self, humans):\n",
    "        # delete from list\n",
    "        if not self.alive:\n",
    "            humans.remove(self)  # Remove from list if dead\n",
    "            res = 1\n",
    "        else:\n",
    "            res = 0\n",
    "        return res  # Optional: Return the updated humans list\n",
    "\n",
    "        \n",
    "    # at every step a year is added\n",
    "    def age_up(self):\n",
    "        self.age += 1  # Increase age by 1 only if alive\n",
    "        \n",
    "    # procreate more people\n",
    "    def procreate(self, humans):\n",
    "        if (self.sex == 'female'):\n",
    "            if (self.age in list(dict_birth.keys())):\n",
    "                if random.random() < dict_birth[self.age]:\n",
    "                    s1 = random.choice(['male', 'female'])\n",
    "                    humans.append(Human(0, s1, 0))\n",
    "#                     print('hey')\n"
   ]
  },
  {
   "cell_type": "code",
   "execution_count": null,
   "id": "3f4b4b64",
   "metadata": {},
   "outputs": [],
   "source": []
  },
  {
   "cell_type": "code",
   "execution_count": 26,
   "id": "9845633a",
   "metadata": {},
   "outputs": [
    {
     "data": {
      "text/plain": [
       "{15.0: 0.010480175333731,\n",
       " 16.0: 0.020621440703366,\n",
       " 17.0: 0.037509956597362996,\n",
       " 18.0: 0.062207010657107,\n",
       " 19.0: 0.097079141922191,\n",
       " 20.0: 0.134067731183822,\n",
       " 21.0: 0.167435108585379,\n",
       " 22.0: 0.192124090467736,\n",
       " 23.0: 0.22507433629042398,\n",
       " 24.0: 0.263257741587134,\n",
       " 25.0: 0.31377209684004503,\n",
       " 26.0: 0.35986623154221403,\n",
       " 27.0: 0.43365196793148403,\n",
       " 28.0: 0.517808476646931,\n",
       " 29.0: 0.608272413923715,\n",
       " 30.0: 0.6895222005949531,\n",
       " 31.0: 0.776968767963211,\n",
       " 32.0: 0.830881581280556,\n",
       " 33.0: 0.8615086601434719,\n",
       " 34.0: 0.886211549965915,\n",
       " 35.0: 0.838537571797891,\n",
       " 36.0: 0.787037501044015,\n",
       " 37.0: 0.671762753183433,\n",
       " 38.0: 0.563614796453308,\n",
       " 39.0: 0.460977610353312,\n",
       " 40.0: 0.352125287396161,\n",
       " 41.0: 0.24337466163152,\n",
       " 42.0: 0.15403165998858198,\n",
       " 43.0: 0.095683943729409,\n",
       " 44.0: 0.058034404319725,\n",
       " 45.0: 0.034045603189535,\n",
       " 46.0: 0.020511792447063998,\n",
       " 47.0: 0.010336377371741,\n",
       " 48.0: 0.007113454626854,\n",
       " 49.0: 0.01147944182812}"
      ]
     },
     "execution_count": 26,
     "metadata": {},
     "output_type": "execute_result"
    }
   ],
   "source": [
    "dict_birth"
   ]
  },
  {
   "cell_type": "code",
   "execution_count": null,
   "id": "a0da2d64",
   "metadata": {},
   "outputs": [],
   "source": []
  },
  {
   "cell_type": "code",
   "execution_count": 27,
   "id": "8af164ee",
   "metadata": {},
   "outputs": [
    {
     "name": "stdout",
     "output_type": "stream",
     "text": [
      "Initial population:  48084000.0\n"
     ]
    }
   ],
   "source": [
    "# processing data\n",
    "\n",
    "# reducing the size of the population\n",
    "df_pop['Total'] = round(df_pop['Total']/people_per_agent)\n",
    "\n",
    "print('Initial population: ', df_pop['Total'].sum()*people_per_agent)"
   ]
  },
  {
   "cell_type": "code",
   "execution_count": 28,
   "id": "2610b7e5",
   "metadata": {},
   "outputs": [],
   "source": [
    "# Create a list to store the humans, initial conditions\n",
    "humans = []\n",
    "ages = list(df_pop.age.unique())\n",
    "\n",
    "# Create number humans with the ages and sexes of the distributions\n",
    "for s1 in ['male', 'female']:\n",
    "    for a1 in ages:\n",
    "        t1 = int(df_pop.loc[((df_pop['sex'] == s1) & \n",
    "                (df_pop['age'] == a1)), \n",
    "               'Total'])\n",
    "        for _ in range(t1):\n",
    "            humans.append(Human(a1, s1, -1))\n",
    "            "
   ]
  },
  {
   "cell_type": "code",
   "execution_count": 29,
   "id": "7524c0c5",
   "metadata": {},
   "outputs": [
    {
     "name": "stdout",
     "output_type": "stream",
     "text": [
      "Year:  2025 Population:  50906\n",
      "number of deaths:  458\n",
      "number of new born:  0\n",
      "-----\n",
      "Year:  2026 Population:  53720\n",
      "number of deaths:  468\n",
      "number of new born:  2\n",
      "-----\n",
      "Year:  2027 Population:  56391\n",
      "number of deaths:  479\n",
      "number of new born:  0\n",
      "-----\n",
      "Year:  2028 Population:  59026\n",
      "number of deaths:  511\n",
      "number of new born:  3\n",
      "-----\n",
      "Year:  2029 Population:  61639\n",
      "number of deaths:  515\n",
      "number of new born:  1\n",
      "-----\n",
      "Year:  2030 Population:  64118\n",
      "number of deaths:  519\n",
      "number of new born:  3\n",
      "-----\n",
      "Year:  2031 Population:  66639\n",
      "number of deaths:  534\n",
      "number of new born:  0\n",
      "-----\n",
      "Year:  2032 Population:  69106\n",
      "number of deaths:  524\n",
      "number of new born:  0\n",
      "-----\n",
      "Year:  2033 Population:  71496\n",
      "number of deaths:  551\n",
      "number of new born:  1\n",
      "-----\n"
     ]
    }
   ],
   "source": [
    "# Looping through all humans, see evolution of population\n",
    "for yr in range(1, 10):\n",
    "    deaths = 0\n",
    "    for human in humans:\n",
    "        human.age_up() # simulation of getting old\n",
    "        human.death()  # Simulate death for all humans\n",
    "        human.procreate(humans) # births\n",
    "        deaths += human.erase_from_list(humans)\n",
    "    \n",
    "    # population total\n",
    "    print('Year: ', 2024+yr, 'Population: ', len(humans))\n",
    "    print('number of deaths: ', deaths)\n",
    "    print('number of new born: ', len([i for i in humans if i.age == 0]))\n",
    "    print(\"-----\")"
   ]
  },
  {
   "cell_type": "code",
   "execution_count": 15,
   "id": "21263dce",
   "metadata": {},
   "outputs": [
    {
     "data": {
      "text/plain": [
       "347"
      ]
     },
     "execution_count": 15,
     "metadata": {},
     "output_type": "execute_result"
    }
   ],
   "source": [
    "len([i for i in humans if i.age == 10])"
   ]
  },
  {
   "cell_type": "code",
   "execution_count": null,
   "id": "a7980815",
   "metadata": {},
   "outputs": [],
   "source": []
  },
  {
   "cell_type": "code",
   "execution_count": null,
   "id": "766d5fe5",
   "metadata": {},
   "outputs": [],
   "source": []
  }
 ],
 "metadata": {
  "kernelspec": {
   "display_name": "Python 3 (ipykernel)",
   "language": "python",
   "name": "python3"
  },
  "language_info": {
   "codemirror_mode": {
    "name": "ipython",
    "version": 3
   },
   "file_extension": ".py",
   "mimetype": "text/x-python",
   "name": "python",
   "nbconvert_exporter": "python",
   "pygments_lexer": "ipython3",
   "version": "3.8.8"
  }
 },
 "nbformat": 4,
 "nbformat_minor": 5
}
